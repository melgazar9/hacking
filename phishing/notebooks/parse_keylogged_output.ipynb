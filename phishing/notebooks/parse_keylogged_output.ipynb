{
 "cells": [
  {
   "cell_type": "code",
   "execution_count": 1,
   "id": "caf2bf8c",
   "metadata": {},
   "outputs": [],
   "source": [
    "import pandas as pd\n",
    "import datetime\n",
    "import os\n",
    "import numpy as np\n",
    "import itertools\n",
    "os.chdir('../')\n",
    "from configs.keylog_cfg import *"
   ]
  },
  {
   "cell_type": "code",
   "execution_count": 2,
   "id": "0aea5808",
   "metadata": {},
   "outputs": [
    {
     "data": {
      "text/plain": [
       "['keylogs/raw_keylogs/keylog_2021-11-2019:48:40.189655.txt',\n",
       " 'keylogs/raw_keylogs/keylog_2021-11-2018:44:51.722410.txt',\n",
       " 'keylogs/raw_keylogs/keylog_2021-11-2018:49:15.126376.txt']"
      ]
     },
     "execution_count": 2,
     "metadata": {},
     "output_type": "execute_result"
    }
   ],
   "source": [
    "files_to_read = [READ_KEYLOGGED_DIR + i for i in list(itertools.chain(*list(itertools.chain.from_iterable([f for f in os.walk(READ_KEYLOGGED_DIR)])))) if i.endswith('.txt')]\n",
    "files_to_read"
   ]
  },
  {
   "cell_type": "code",
   "execution_count": 3,
   "id": "64a349a2",
   "metadata": {},
   "outputs": [],
   "source": [
    "raw_keylogged_data = []\n",
    "for f in files_to_read:\n",
    "    raw_keylogged_data.append(open(f, 'r').readlines())"
   ]
  },
  {
   "cell_type": "code",
   "execution_count": 5,
   "id": "f107bf5a",
   "metadata": {},
   "outputs": [],
   "source": [
    "def raw_keylog_data_to_df(raw_keylogged_data):\n",
    "    \n",
    "    list_of_dfs = []\n",
    "\n",
    "    counter = 0\n",
    "\n",
    "    for data in raw_keylogged_data:\n",
    "\n",
    "        tmp = {k:v for k,v in [i.split(': ') for i in data]}\n",
    "        raw_keylog_dict = {}\n",
    "        raw_keylog_dict['timestamp'] = list(tmp.keys())\n",
    "        raw_keylog_dict['keypress'] = list(tmp.values())\n",
    "\n",
    "        df_tmp = pd.DataFrame(raw_keylog_dict)\n",
    "        df_tmp['file_suffix'] = files_to_read[counter][-11:].replace('.', '').replace('txt', '')\n",
    "        counter += 1\n",
    "\n",
    "        list_of_dfs.append(df_tmp)\n",
    "\n",
    "    df = pd.concat(list_of_dfs, axis=0)\n",
    "    \n",
    "    return df    "
   ]
  },
  {
   "cell_type": "code",
   "execution_count": 6,
   "id": "704cb109",
   "metadata": {},
   "outputs": [
    {
     "data": {
      "text/html": [
       "<div>\n",
       "<style scoped>\n",
       "    .dataframe tbody tr th:only-of-type {\n",
       "        vertical-align: middle;\n",
       "    }\n",
       "\n",
       "    .dataframe tbody tr th {\n",
       "        vertical-align: top;\n",
       "    }\n",
       "\n",
       "    .dataframe thead th {\n",
       "        text-align: right;\n",
       "    }\n",
       "</style>\n",
       "<table border=\"1\" class=\"dataframe\">\n",
       "  <thead>\n",
       "    <tr style=\"text-align: right;\">\n",
       "      <th></th>\n",
       "      <th>timestamp</th>\n",
       "      <th>keypress</th>\n",
       "      <th>file_suffix</th>\n",
       "    </tr>\n",
       "  </thead>\n",
       "  <tbody>\n",
       "    <tr>\n",
       "      <th>0</th>\n",
       "      <td>2021-11-20 19:48:40,538</td>\n",
       "      <td>j</td>\n",
       "      <td>189655</td>\n",
       "    </tr>\n",
       "    <tr>\n",
       "      <th>1</th>\n",
       "      <td>2021-11-20 19:48:40,539</td>\n",
       "      <td>k</td>\n",
       "      <td>189655</td>\n",
       "    </tr>\n",
       "    <tr>\n",
       "      <th>2</th>\n",
       "      <td>2021-11-20 19:48:40,562</td>\n",
       "      <td>a</td>\n",
       "      <td>189655</td>\n",
       "    </tr>\n",
       "    <tr>\n",
       "      <th>3</th>\n",
       "      <td>2021-11-20 19:48:40,634</td>\n",
       "      <td>s</td>\n",
       "      <td>189655</td>\n",
       "    </tr>\n",
       "    <tr>\n",
       "      <th>4</th>\n",
       "      <td>2021-11-20 19:48:40,651</td>\n",
       "      <td>l</td>\n",
       "      <td>189655</td>\n",
       "    </tr>\n",
       "    <tr>\n",
       "      <th>...</th>\n",
       "      <td>...</td>\n",
       "      <td>...</td>\n",
       "      <td>...</td>\n",
       "    </tr>\n",
       "    <tr>\n",
       "      <th>2958</th>\n",
       "      <td>2021-11-20 19:22:39,664</td>\n",
       "      <td>Key.alt</td>\n",
       "      <td>126376</td>\n",
       "    </tr>\n",
       "    <tr>\n",
       "      <th>2959</th>\n",
       "      <td>2021-11-20 19:22:39,970</td>\n",
       "      <td>2</td>\n",
       "      <td>126376</td>\n",
       "    </tr>\n",
       "    <tr>\n",
       "      <th>2960</th>\n",
       "      <td>2021-11-20 19:22:40,626</td>\n",
       "      <td>Key.alt</td>\n",
       "      <td>126376</td>\n",
       "    </tr>\n",
       "    <tr>\n",
       "      <th>2961</th>\n",
       "      <td>2021-11-20 19:22:41,231</td>\n",
       "      <td>Key.ctrl</td>\n",
       "      <td>126376</td>\n",
       "    </tr>\n",
       "    <tr>\n",
       "      <th>2962</th>\n",
       "      <td>2021-11-20 19:22:41,305</td>\n",
       "      <td>c</td>\n",
       "      <td>126376</td>\n",
       "    </tr>\n",
       "  </tbody>\n",
       "</table>\n",
       "<p>3665 rows × 3 columns</p>\n",
       "</div>"
      ],
      "text/plain": [
       "                    timestamp  keypress file_suffix\n",
       "0     2021-11-20 19:48:40,538         j      189655\n",
       "1     2021-11-20 19:48:40,539         k      189655\n",
       "2     2021-11-20 19:48:40,562         a      189655\n",
       "3     2021-11-20 19:48:40,634         s      189655\n",
       "4     2021-11-20 19:48:40,651         l      189655\n",
       "...                       ...       ...         ...\n",
       "2958  2021-11-20 19:22:39,664   Key.alt      126376\n",
       "2959  2021-11-20 19:22:39,970         2      126376\n",
       "2960  2021-11-20 19:22:40,626   Key.alt      126376\n",
       "2961  2021-11-20 19:22:41,231  Key.ctrl      126376\n",
       "2962  2021-11-20 19:22:41,305         c      126376\n",
       "\n",
       "[3665 rows x 3 columns]"
      ]
     },
     "execution_count": 6,
     "metadata": {},
     "output_type": "execute_result"
    }
   ],
   "source": [
    "df = raw_keylog_data_to_df(raw_keylogged_data)\n",
    "df['keypress'] = df['keypress'].str.replace('\\n', '').str.replace(\"'\", \"\")\n",
    "df"
   ]
  },
  {
   "cell_type": "code",
   "execution_count": 7,
   "id": "e7d045b6",
   "metadata": {},
   "outputs": [
    {
     "data": {
      "text/plain": [
       "126376    2963\n",
       "722410     673\n",
       "189655      29\n",
       "Name: file_suffix, dtype: int64"
      ]
     },
     "execution_count": 7,
     "metadata": {},
     "output_type": "execute_result"
    }
   ],
   "source": [
    "df['file_suffix'].value_counts()"
   ]
  },
  {
   "cell_type": "code",
   "execution_count": 10,
   "id": "157ab861",
   "metadata": {},
   "outputs": [],
   "source": [
    "def group_keylogged_df(df, groupby_keypress = 'Key.enter'):\n",
    "    \n",
    "    df['group'] = np.nan\n",
    "    df.loc[df['keypress'] == groupby_keypress, 'group'] = 1\n",
    "    df['group'] = df.groupby('keypress')['group'].transform(lambda x: x.cumsum())\n",
    "    df['group'].bfill(inplace=True)\n",
    "    \n",
    "    df_grouped = df.groupby('group').agg({'timestamp': [min, max],\n",
    "                             'keypress': [lambda x: ''.join(x)],\n",
    "                             'file_suffix': [min]})\n",
    "    \n",
    "    df_grouped.columns = list(pd.Index([str(e[0]).lower() + '_' + str(e[1]).lower()\\\n",
    "                                        for e in df_grouped.columns.tolist()])\\\n",
    "                              .str.replace(' ', '_')\\\n",
    "                              .str.replace('_<lambda>', '')\\\n",
    "                              .str.replace('file_suffix_min', 'file_suffix'))\n",
    "    df_grouped.reset_index(inplace=True, drop=True)\n",
    "\n",
    "    return df_grouped"
   ]
  },
  {
   "cell_type": "code",
   "execution_count": 12,
   "id": "e52b1009",
   "metadata": {},
   "outputs": [
    {
     "data": {
      "text/html": [
       "<div>\n",
       "<style scoped>\n",
       "    .dataframe tbody tr th:only-of-type {\n",
       "        vertical-align: middle;\n",
       "    }\n",
       "\n",
       "    .dataframe tbody tr th {\n",
       "        vertical-align: top;\n",
       "    }\n",
       "\n",
       "    .dataframe thead th {\n",
       "        text-align: right;\n",
       "    }\n",
       "</style>\n",
       "<table border=\"1\" class=\"dataframe\">\n",
       "  <thead>\n",
       "    <tr style=\"text-align: right;\">\n",
       "      <th></th>\n",
       "      <th>timestamp_min</th>\n",
       "      <th>timestamp_max</th>\n",
       "      <th>keypress</th>\n",
       "      <th>file_suffix</th>\n",
       "    </tr>\n",
       "  </thead>\n",
       "  <tbody>\n",
       "    <tr>\n",
       "      <th>0</th>\n",
       "      <td>2021-11-20 18:44:52,683</td>\n",
       "      <td>2021-11-20 19:48:42,125</td>\n",
       "      <td>jkasldfkjaf;askldjf;asdlkfjKey.ctrlcKey.ctrlKe...</td>\n",
       "      <td>189655</td>\n",
       "    </tr>\n",
       "    <tr>\n",
       "      <th>1</th>\n",
       "      <td>2021-11-20 18:44:58,280</td>\n",
       "      <td>2021-11-20 18:44:59,685</td>\n",
       "      <td>facebook.comKey.enter</td>\n",
       "      <td>722410</td>\n",
       "    </tr>\n",
       "    <tr>\n",
       "      <th>2</th>\n",
       "      <td>2021-11-20 18:45:00,582</td>\n",
       "      <td>2021-11-20 18:45:04,497</td>\n",
       "      <td>himyemailKey.shift@yes.comKey.enter</td>\n",
       "      <td>722410</td>\n",
       "    </tr>\n",
       "    <tr>\n",
       "      <th>3</th>\n",
       "      <td>2021-11-20 18:45:05,631</td>\n",
       "      <td>2021-11-20 18:45:08,879</td>\n",
       "      <td>nothisisnotapasswordKey.enter</td>\n",
       "      <td>722410</td>\n",
       "    </tr>\n",
       "    <tr>\n",
       "      <th>4</th>\n",
       "      <td>2021-11-20 18:45:10,478</td>\n",
       "      <td>2021-11-20 18:45:12,588</td>\n",
       "      <td>Key.tabKey.tabKey.ctrlwKey.enter</td>\n",
       "      <td>722410</td>\n",
       "    </tr>\n",
       "    <tr>\n",
       "      <th>...</th>\n",
       "      <td>...</td>\n",
       "      <td>...</td>\n",
       "      <td>...</td>\n",
       "      <td>...</td>\n",
       "    </tr>\n",
       "    <tr>\n",
       "      <th>229</th>\n",
       "      <td>2021-11-20 19:22:18,795</td>\n",
       "      <td>2021-11-20 19:22:20,282</td>\n",
       "      <td>kkjKey.enter</td>\n",
       "      <td>126376</td>\n",
       "    </tr>\n",
       "    <tr>\n",
       "      <th>230</th>\n",
       "      <td>2021-11-20 19:22:20,906</td>\n",
       "      <td>2021-11-20 19:22:24,422</td>\n",
       "      <td>Key.downKey.downKey.upKey.upKey.leftKey.backsp...</td>\n",
       "      <td>126376</td>\n",
       "    </tr>\n",
       "    <tr>\n",
       "      <th>231</th>\n",
       "      <td>2021-11-20 19:22:24,920</td>\n",
       "      <td>2021-11-20 19:22:28,017</td>\n",
       "      <td>skjKey.enter</td>\n",
       "      <td>126376</td>\n",
       "    </tr>\n",
       "    <tr>\n",
       "      <th>232</th>\n",
       "      <td>2021-11-20 19:22:28,376</td>\n",
       "      <td>2021-11-20 19:22:31,992</td>\n",
       "      <td>df[\"\"filKey.tabKey.upKey.downKey.enter</td>\n",
       "      <td>126376</td>\n",
       "    </tr>\n",
       "    <tr>\n",
       "      <th>233</th>\n",
       "      <td>2021-11-20 19:22:32,317</td>\n",
       "      <td>2021-11-20 19:22:35,017</td>\n",
       "      <td>Key.rightKey.right.valueKey.shift_countsKey.sh...</td>\n",
       "      <td>126376</td>\n",
       "    </tr>\n",
       "  </tbody>\n",
       "</table>\n",
       "<p>234 rows × 4 columns</p>\n",
       "</div>"
      ],
      "text/plain": [
       "               timestamp_min            timestamp_max  \\\n",
       "0    2021-11-20 18:44:52,683  2021-11-20 19:48:42,125   \n",
       "1    2021-11-20 18:44:58,280  2021-11-20 18:44:59,685   \n",
       "2    2021-11-20 18:45:00,582  2021-11-20 18:45:04,497   \n",
       "3    2021-11-20 18:45:05,631  2021-11-20 18:45:08,879   \n",
       "4    2021-11-20 18:45:10,478  2021-11-20 18:45:12,588   \n",
       "..                       ...                      ...   \n",
       "229  2021-11-20 19:22:18,795  2021-11-20 19:22:20,282   \n",
       "230  2021-11-20 19:22:20,906  2021-11-20 19:22:24,422   \n",
       "231  2021-11-20 19:22:24,920  2021-11-20 19:22:28,017   \n",
       "232  2021-11-20 19:22:28,376  2021-11-20 19:22:31,992   \n",
       "233  2021-11-20 19:22:32,317  2021-11-20 19:22:35,017   \n",
       "\n",
       "                                              keypress file_suffix  \n",
       "0    jkasldfkjaf;askldjf;asdlkfjKey.ctrlcKey.ctrlKe...      189655  \n",
       "1                                facebook.comKey.enter      722410  \n",
       "2                  himyemailKey.shift@yes.comKey.enter      722410  \n",
       "3                        nothisisnotapasswordKey.enter      722410  \n",
       "4                     Key.tabKey.tabKey.ctrlwKey.enter      722410  \n",
       "..                                                 ...         ...  \n",
       "229                                       kkjKey.enter      126376  \n",
       "230  Key.downKey.downKey.upKey.upKey.leftKey.backsp...      126376  \n",
       "231                                       skjKey.enter      126376  \n",
       "232             df[\"\"filKey.tabKey.upKey.downKey.enter      126376  \n",
       "233  Key.rightKey.right.valueKey.shift_countsKey.sh...      126376  \n",
       "\n",
       "[234 rows x 4 columns]"
      ]
     },
     "execution_count": 12,
     "metadata": {},
     "output_type": "execute_result"
    }
   ],
   "source": [
    "df_tmp = group_keylogged_df(df)\n",
    "df_tmp"
   ]
  },
  {
   "cell_type": "code",
   "execution_count": 16,
   "id": "26addecb",
   "metadata": {},
   "outputs": [
    {
     "data": {
      "text/plain": [
       "'keylogs/parsed_keylogs/2021-11-2019:53:42.215323'"
      ]
     },
     "execution_count": 16,
     "metadata": {},
     "output_type": "execute_result"
    }
   ],
   "source": []
  },
  {
   "cell_type": "code",
   "execution_count": null,
   "id": "2284ddc0",
   "metadata": {},
   "outputs": [],
   "source": []
  },
  {
   "cell_type": "code",
   "execution_count": null,
   "id": "7aee159d",
   "metadata": {},
   "outputs": [],
   "source": []
  },
  {
   "cell_type": "code",
   "execution_count": null,
   "id": "a25c991c",
   "metadata": {},
   "outputs": [],
   "source": []
  },
  {
   "cell_type": "code",
   "execution_count": null,
   "id": "09ae52bc",
   "metadata": {},
   "outputs": [],
   "source": []
  },
  {
   "cell_type": "code",
   "execution_count": null,
   "id": "0658bca5",
   "metadata": {},
   "outputs": [],
   "source": []
  },
  {
   "cell_type": "code",
   "execution_count": null,
   "id": "4acbe080",
   "metadata": {},
   "outputs": [],
   "source": []
  },
  {
   "cell_type": "code",
   "execution_count": null,
   "id": "9397e4bb",
   "metadata": {},
   "outputs": [],
   "source": []
  },
  {
   "cell_type": "code",
   "execution_count": null,
   "id": "de50ab46",
   "metadata": {},
   "outputs": [],
   "source": []
  }
 ],
 "metadata": {
  "kernelspec": {
   "display_name": "Python 3",
   "language": "python",
   "name": "python3"
  },
  "language_info": {
   "codemirror_mode": {
    "name": "ipython",
    "version": 3
   },
   "file_extension": ".py",
   "mimetype": "text/x-python",
   "name": "python",
   "nbconvert_exporter": "python",
   "pygments_lexer": "ipython3",
   "version": "3.8.8"
  }
 },
 "nbformat": 4,
 "nbformat_minor": 5
}
